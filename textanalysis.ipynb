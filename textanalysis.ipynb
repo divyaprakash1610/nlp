{
 "cells": [
  {
   "cell_type": "markdown",
   "id": "eb762c15",
   "metadata": {},
   "source": [
    "1.tokenization\n",
    "2.word frequency\n",
    "3.vocab richness\n",
    "4.mean len of word and sent\n",
    "5.pattern matching(ing, email, rhyming)"
   ]
  },
  {
   "cell_type": "code",
   "execution_count": 19,
   "id": "536ee54a",
   "metadata": {},
   "outputs": [],
   "source": [
    "text=\"Learning new things every day. every time keeps the new mind sharp and curious\""
   ]
  },
  {
   "cell_type": "code",
   "execution_count": 20,
   "id": "3df2a63e",
   "metadata": {},
   "outputs": [],
   "source": [
    "import nltk"
   ]
  },
  {
   "cell_type": "code",
   "execution_count": 21,
   "id": "1cfe43db",
   "metadata": {},
   "outputs": [
    {
     "name": "stdout",
     "output_type": "stream",
     "text": [
      "['Learning', 'new', 'things', 'every', 'day', '.', 'every', 'time', 'keeps', 'the', 'new', 'mind', 'sharp', 'and', 'curious']\n"
     ]
    }
   ],
   "source": [
    "#tokenization\n",
    "from nltk.tokenize import word_tokenize\n",
    "tokens=word_tokenize(text)\n",
    "print(tokens)"
   ]
  },
  {
   "cell_type": "code",
   "execution_count": 22,
   "id": "78cf16c7",
   "metadata": {},
   "outputs": [
    {
     "name": "stdout",
     "output_type": "stream",
     "text": [
      "Learning 1\n",
      "new 2\n",
      "things 1\n",
      "every 2\n",
      "day 1\n",
      ". 1\n",
      "time 1\n",
      "keeps 1\n",
      "the 1\n",
      "mind 1\n",
      "sharp 1\n",
      "and 1\n",
      "curious 1\n"
     ]
    }
   ],
   "source": [
    "#frequency\n",
    "from nltk.probability import FreqDist\n",
    "freq_list= FreqDist(tokens)\n",
    "for word,freq in freq_list.items():\n",
    "    print(word,freq)"
   ]
  },
  {
   "cell_type": "code",
   "execution_count": 28,
   "id": "0a52ca31",
   "metadata": {},
   "outputs": [
    {
     "name": "stdout",
     "output_type": "stream",
     "text": [
      "Learning 1\n",
      "things 1\n",
      "day 1\n",
      ". 1\n",
      "time 1\n",
      "keeps 1\n",
      "the 1\n",
      "mind 1\n",
      "sharp 1\n",
      "and 1\n",
      "curious 1\n"
     ]
    }
   ],
   "source": [
    "#vocab richnesss\n",
    "for word, freq in freq_list.items():\n",
    "    if(freq==1):\n",
    "        print(word,freq)"
   ]
  },
  {
   "cell_type": "code",
   "execution_count": 29,
   "id": "bf469cc2",
   "metadata": {},
   "outputs": [
    {
     "name": "stdout",
     "output_type": "stream",
     "text": [
      "4.333333333333333\n",
      "['Learning new things every day.', 'every time keeps the new mind sharp and curious']\n",
      "7.5\n"
     ]
    }
   ],
   "source": [
    "#mean word len,sent len\n",
    "from nltk.tokenize import sent_tokenize\n",
    "sum=0\n",
    "for word in tokens:\n",
    "    sum+=len(word)\n",
    "mwd= sum/len(tokens)\n",
    "print(mwd)\n",
    "\n",
    "sent_token=sent_tokenize(text)\n",
    "msd=len(tokens)/len(sent_token)    \n",
    "print(sent_token)\n",
    "print(msd)"
   ]
  },
  {
   "cell_type": "code",
   "execution_count": 30,
   "id": "d250f1e1",
   "metadata": {},
   "outputs": [
    {
     "name": "stdout",
     "output_type": "stream",
     "text": [
      "Email addresses found: ['email@gmail.com', 'contact@mywebsite.com', 'admin123@website.org']\n"
     ]
    }
   ],
   "source": [
    "#pattern matching\n",
    "import re\n",
    "text = \"\"\"\n",
    "Hello, my email is example.email@gmail.com. Feel free to reach out at contact@mywebsite.com for more info.\n",
    "You can also send a message to admin123@website.org for support.\n",
    "\"\"\"\n",
    "\n",
    "pattern = r'[a-zA-Z0-9]+@[a-zA-Z0-9]+\\.[a-zA-Z]{2,}'\n",
    "matches = re.findall(pattern, text)\n",
    "print(\"Email addresses found:\", matches)\n"
   ]
  },
  {
   "cell_type": "code",
   "execution_count": 31,
   "id": "56052d7b",
   "metadata": {},
   "outputs": [
    {
     "name": "stdout",
     "output_type": "stream",
     "text": [
      "Negative words found: ['disagree', 'antisocial', 'dislike', 'unkind']\n"
     ]
    }
   ],
   "source": [
    "text = \"I disagree with your opinion. the antisocial culture is not good. I dislike the way you think. The unkind words hurt me.\"\n",
    "pattern_negative = r\"\\b(un\\w*|dis\\w*|in\\w*|im\\w*|non\\w*|ir\\w*|il\\w*|anti\\w*)\\b\"\n",
    "# Find all negative words in the text\n",
    "matches_negative = re.findall(pattern_negative, text)\n",
    "print(\"Negative words found:\", matches_negative)"
   ]
  },
  {
   "cell_type": "code",
   "execution_count": 32,
   "id": "e4e11c63",
   "metadata": {},
   "outputs": [
    {
     "name": "stdout",
     "output_type": "stream",
     "text": [
      "Requirement already satisfied: pronouncing in c:\\users\\divya\\anaconda3\\lib\\site-packages (0.2.0)\n",
      "Requirement already satisfied: cmudict>=0.4.0 in c:\\users\\divya\\anaconda3\\lib\\site-packages (from pronouncing) (1.0.32)\n",
      "Requirement already satisfied: importlib-metadata>=5 in c:\\users\\divya\\anaconda3\\lib\\site-packages (from cmudict>=0.4.0->pronouncing) (7.0.1)\n",
      "Requirement already satisfied: importlib-resources>=5 in c:\\users\\divya\\anaconda3\\lib\\site-packages (from cmudict>=0.4.0->pronouncing) (6.5.2)\n",
      "Requirement already satisfied: zipp>=0.5 in c:\\users\\divya\\anaconda3\\lib\\site-packages (from importlib-metadata>=5->cmudict>=0.4.0->pronouncing) (3.17.0)\n"
     ]
    }
   ],
   "source": [
    "! pip install pronouncing"
   ]
  },
  {
   "cell_type": "code",
   "execution_count": 34,
   "id": "50850463",
   "metadata": {},
   "outputs": [
    {
     "name": "stdout",
     "output_type": "stream",
     "text": [
      "Words in the text: ['i', 'am', 'stumping', 'and', 'jumping', 'in', 'the', 'morning', 'the', 'night', 'was', 'bright', 'and', 'the', 'light', 'shone', 'on', 'the', 'street']\n",
      "['night', 'bright', 'jumping', 'stumping', 'light']\n"
     ]
    }
   ],
   "source": [
    "import re\n",
    "import pronouncing\n",
    "\n",
    "def find_rhyming_words(text):\n",
    "    # Find all words in the text and convert them to lowercase\n",
    "    words = re.findall(r'\\b\\w+\\b', text.lower())\n",
    "    rhyming_words = set()\n",
    "    print(\"Words in the text:\", words)\n",
    "\n",
    "    # Find rhymes for each word in the text\n",
    "    for word in words:\n",
    "        # Get rhyming words from the pronouncing library\n",
    "        rhymes = pronouncing.rhymes(word)\n",
    "        \n",
    "        # Add the word and its rhymes if they are in the input text\n",
    "        for rhyme in rhymes:\n",
    "            if rhyme in words:\n",
    "                rhyming_words.add(word)\n",
    "                rhyming_words.add(rhyme)\n",
    "\n",
    "    return list(rhyming_words)\n",
    "\n",
    "# Example usage:\n",
    "text = \"I am stumping, and jumping in the morning. The night was bright, and the light shone on the street.\"\n",
    "rhyming_words = find_rhyming_words(text)\n",
    "print(rhyming_words)\n"
   ]
  },
  {
   "cell_type": "code",
   "execution_count": null,
   "id": "1b0282e8",
   "metadata": {},
   "outputs": [],
   "source": []
  }
 ],
 "metadata": {
  "kernelspec": {
   "display_name": "base",
   "language": "python",
   "name": "python3"
  },
  "language_info": {
   "codemirror_mode": {
    "name": "ipython",
    "version": 3
   },
   "file_extension": ".py",
   "mimetype": "text/x-python",
   "name": "python",
   "nbconvert_exporter": "python",
   "pygments_lexer": "ipython3",
   "version": "3.12.3"
  }
 },
 "nbformat": 4,
 "nbformat_minor": 5
}
