{
 "cells": [
  {
   "cell_type": "code",
   "execution_count": 9,
   "id": "64bf4888",
   "metadata": {},
   "outputs": [
    {
     "name": "stderr",
     "output_type": "stream",
     "text": [
      "[nltk_data] Downloading package brown to\n",
      "[nltk_data]     C:\\Users\\divya\\AppData\\Roaming\\nltk_data...\n",
      "[nltk_data]   Package brown is already up-to-date!\n",
      "[nltk_data] Downloading package universal_tagset to\n",
      "[nltk_data]     C:\\Users\\divya\\AppData\\Roaming\\nltk_data...\n",
      "[nltk_data]   Package universal_tagset is already up-to-date!\n"
     ]
    },
    {
     "name": "stdout",
     "output_type": "stream",
     "text": [
      "Greedy HMM POS Tagging:\n",
      "the: DET (Emission: 7.8123e-05, Transition: 2.3846e+00)\n",
      "sun: NOUN (Emission: 7.1480e-04, Transition: 1.4230e-03)\n",
      "shines: VERB (Emission: 7.1480e-04, Transition: 3.3748e-04)\n",
      "bright: ADJ (Emission: 7.1480e-04, Transition: 1.9150e-04)\n"
     ]
    }
   ],
   "source": [
    "import nltk\n",
    "from collections import Counter\n",
    "\n",
    "nltk.download('brown')\n",
    "nltk.download('universal_tagset')\n",
    "\n",
    "def build_hmm():\n",
    "    sents = nltk.corpus.brown.tagged_sents(tagset='universal')\n",
    "    tags = Counter()\n",
    "    emits = Counter()\n",
    "    trans = Counter()\n",
    "    vocab = set()\n",
    "    \n",
    "    for sent in sents:\n",
    "        prev = '<s>'\n",
    "        for w, t in sent:\n",
    "            w = w.lower()\n",
    "            vocab.add(w)\n",
    "            tags[t] += 1\n",
    "            emits[(w, t)] += 1\n",
    "            trans[(prev, t)] += 1\n",
    "            prev = t\n",
    "        trans[(prev, '</s>')] += 1\n",
    "        tags['</s>'] += 1\n",
    "    \n",
    "    V, T = len(vocab), len(tags)\n",
    "    # Proper Laplace smoothing\n",
    "    emit_p = {(w, t): (c + 1) / (tags[t] + V) for (w, t), c in emits.items()}\n",
    "    trans_p = {(t1, t2): (c + 1) / (tags[t1] + T) for (t1, t2), c in trans.items()}\n",
    "    return emit_p, trans_p, tags, max(tags, key=tags.get)\n",
    "\n",
    "def tag_hmm(text, emit_p, trans_p, tags, default):\n",
    "    words = text.lower().split()\n",
    "    result, prev = [], '<s>'\n",
    "    valid_tags = [t for t in tags if t not in ['<s>', '</s>', '.']]  # Exclude punctuation\n",
    "    for w in words:\n",
    "        best, score, ep, tp = default, 0, 0, 0\n",
    "        for t in valid_tags:\n",
    "            ep = emit_p.get((w, t), 1 / (tags[t] + len(tags)))\n",
    "            tp = trans_p.get((prev, t), 1 / (tags[prev] + len(tags)))\n",
    "            if ep * tp > score:\n",
    "                score, best, ep, tp = ep * tp, t, ep, tp\n",
    "        result.append((w, best, ep, tp))\n",
    "        prev = best\n",
    "    return result\n",
    "\n",
    "emit_p, trans_p, tags, default = build_hmm()\n",
    "print(\"Greedy HMM POS Tagging:\")\n",
    "for w, t, ep, tp in tag_hmm(\"The sun shines bright\", emit_p, trans_p, tags, default):\n",
    "    print(f\"{w}: {t} (Emission: {ep:.4e}, Transition: {tp:.4e})\")"
   ]
  },
  {
   "cell_type": "code",
   "execution_count": null,
   "id": "7cd4461d",
   "metadata": {},
   "outputs": [],
   "source": []
  }
 ],
 "metadata": {
  "kernelspec": {
   "display_name": "base",
   "language": "python",
   "name": "python3"
  },
  "language_info": {
   "codemirror_mode": {
    "name": "ipython",
    "version": 3
   },
   "file_extension": ".py",
   "mimetype": "text/x-python",
   "name": "python",
   "nbconvert_exporter": "python",
   "pygments_lexer": "ipython3",
   "version": "3.12.3"
  }
 },
 "nbformat": 4,
 "nbformat_minor": 5
}
