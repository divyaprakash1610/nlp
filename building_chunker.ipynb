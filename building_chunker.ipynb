{
 "cells": [
  {
   "cell_type": "code",
   "execution_count": 1,
   "id": "235da5f2",
   "metadata": {},
   "outputs": [],
   "source": [
    "import nltk\n",
    "from nltk import word_tokenize, pos_tag\n",
    "from nltk.chunk import RegexpParser"
   ]
  },
  {
   "cell_type": "code",
   "execution_count": 2,
   "id": "5dbc53ba",
   "metadata": {},
   "outputs": [],
   "source": [
    "text= input(\"enter a text:\")\n",
    "token= word_tokenize(text)\n",
    "tagged= pos_tag(token)"
   ]
  },
  {
   "cell_type": "code",
   "execution_count": null,
   "id": "150690df",
   "metadata": {},
   "outputs": [],
   "source": [
    "chunk_grammar=r\"\"\"\n",
    "NP:{<DT>?<JJ.*>*<NN.*>+}\n",
    "VP:{<VB.*><NP|PP|CLAUSE>*}\"\"\"\n",
    "chunk_parser= RegexpParser(chunk_grammar)"
   ]
  },
  {
   "cell_type": "code",
   "execution_count": 4,
   "id": "45c171c6",
   "metadata": {},
   "outputs": [],
   "source": [
    "tree=chunk_parser.parse(tagged)"
   ]
  },
  {
   "cell_type": "code",
   "execution_count": 6,
   "id": "a2534ac4",
   "metadata": {},
   "outputs": [
    {
     "name": "stdout",
     "output_type": "stream",
     "text": [
      "NP:the girl\n",
      "VP:has\n",
      "VP:been\n",
      "VP:wearing the red dress\n",
      "NP:the red dress\n",
      "NP:the party\n"
     ]
    }
   ],
   "source": [
    "for subtree in tree.subtrees():\n",
    "    if subtree.label() in ['NP','VP']:\n",
    "        phrase=\" \".join(word for word,tag in subtree.leaves())\n",
    "        print(f\"{subtree.label()}:{phrase}\")"
   ]
  },
  {
   "cell_type": "code",
   "execution_count": null,
   "id": "8b7c1bc2",
   "metadata": {},
   "outputs": [],
   "source": []
  }
 ],
 "metadata": {
  "kernelspec": {
   "display_name": "base",
   "language": "python",
   "name": "python3"
  },
  "language_info": {
   "codemirror_mode": {
    "name": "ipython",
    "version": 3
   },
   "file_extension": ".py",
   "mimetype": "text/x-python",
   "name": "python",
   "nbconvert_exporter": "python",
   "pygments_lexer": "ipython3",
   "version": "3.12.3"
  }
 },
 "nbformat": 4,
 "nbformat_minor": 5
}
