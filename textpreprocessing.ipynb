{
 "cells": [
  {
   "cell_type": "code",
   "execution_count": 27,
   "id": "beeacfeb",
   "metadata": {},
   "outputs": [
    {
     "name": "stdout",
     "output_type": "stream",
     "text": [
      "Requirement already satisfied: nltk in c:\\users\\divya\\anaconda3\\lib\\site-packages (3.9.1)\n",
      "Requirement already satisfied: click in c:\\users\\divya\\anaconda3\\lib\\site-packages (from nltk) (8.1.7)\n",
      "Requirement already satisfied: joblib in c:\\users\\divya\\anaconda3\\lib\\site-packages (from nltk) (1.4.2)\n",
      "Requirement already satisfied: regex>=2021.8.3 in c:\\users\\divya\\anaconda3\\lib\\site-packages (from nltk) (2024.9.11)\n",
      "Requirement already satisfied: tqdm in c:\\users\\divya\\anaconda3\\lib\\site-packages (from nltk) (4.66.5)\n",
      "Requirement already satisfied: colorama in c:\\users\\divya\\anaconda3\\lib\\site-packages (from click->nltk) (0.4.6)\n"
     ]
    }
   ],
   "source": [
    "!pip install nltk"
   ]
  },
  {
   "cell_type": "markdown",
   "id": "b37e204d",
   "metadata": {},
   "source": [
    "1.text cleaning: remove html tags numbers, spl char ,convert to lowercase\n",
    "2.spell check\n",
    "3.remove stopwords\n",
    "4.tokenization\n",
    "5.stemming and lemmatization"
   ]
  },
  {
   "cell_type": "code",
   "execution_count": 31,
   "id": "a556e728",
   "metadata": {},
   "outputs": [],
   "source": [
    "import re\n",
    "from textblob import TextBlob\n",
    "import nltk\n",
    "from nltk.corpus import stopwords\n",
    "from nltk import word_tokenize"
   ]
  },
  {
   "cell_type": "code",
   "execution_count": null,
   "id": "251bedc9",
   "metadata": {},
   "outputs": [
    {
     "name": "stderr",
     "output_type": "stream",
     "text": [
      "[nltk_data] Downloading package punkt to\n",
      "[nltk_data]     C:\\Users\\divya\\AppData\\Roaming\\nltk_data...\n",
      "[nltk_data]   Package punkt is already up-to-date!\n"
     ]
    },
    {
     "data": {
      "text/plain": [
       "True"
      ]
     },
     "execution_count": 36,
     "metadata": {},
     "output_type": "execute_result"
    }
   ],
   "source": [
    "nltk.download(\"punkt\")\n",
    "nltk.download('stopwords')"
   ]
  },
  {
   "cell_type": "code",
   "execution_count": 43,
   "id": "e05db461",
   "metadata": {},
   "outputs": [],
   "source": [
    "text=\"<div>Coding & Debugging in JAVA @ 11:45AM — Testin, Refctoring & <b>REFACTORING</b> are ongoing!\""
   ]
  },
  {
   "cell_type": "code",
   "execution_count": 44,
   "id": "2e241900",
   "metadata": {},
   "outputs": [
    {
     "name": "stdout",
     "output_type": "stream",
     "text": [
      " Coding & Debugging in JAVA @ 11:45AM — Testin, Refctoring &  REFACTORING  are ongoing!\n"
     ]
    }
   ],
   "source": [
    "#remove html:\n",
    "cleaned_text= re.sub(r\"<.*?>\",\" \",text)\n",
    "print(cleaned_text)"
   ]
  },
  {
   "cell_type": "code",
   "execution_count": 45,
   "id": "9aff56e3",
   "metadata": {},
   "outputs": [
    {
     "name": "stdout",
     "output_type": "stream",
     "text": [
      " Coding  Debugging in JAVA  AM  Testin Refctoring   REFACTORING  are ongoing\n"
     ]
    }
   ],
   "source": [
    "#remove numbers, spl char\n",
    "cleaned_text= re.sub(r\"[^A-Z a-z]\",\"\",cleaned_text)\n",
    "print(cleaned_text)"
   ]
  },
  {
   "cell_type": "code",
   "execution_count": 46,
   "id": "afadfe1d",
   "metadata": {},
   "outputs": [
    {
     "name": "stdout",
     "output_type": "stream",
     "text": [
      " coding  debugging in java  am  testin refctoring   refactoring  are ongoing\n"
     ]
    }
   ],
   "source": [
    "#convert to lowercase\n",
    "cleaned_text=cleaned_text.lower()\n",
    "print(cleaned_text)"
   ]
  },
  {
   "cell_type": "code",
   "execution_count": 47,
   "id": "c77eba18",
   "metadata": {},
   "outputs": [
    {
     "name": "stdout",
     "output_type": "stream",
     "text": [
      " coming  debugging in cava  am  testing restoring   refactoring  are going\n"
     ]
    }
   ],
   "source": [
    "#spell check\n",
    "blob= TextBlob(cleaned_text)\n",
    "cleaned_text=blob.correct()\n",
    "print(cleaned_text)"
   ]
  },
  {
   "cell_type": "code",
   "execution_count": null,
   "id": "d3c2c9d6",
   "metadata": {},
   "outputs": [
    {
     "name": "stdout",
     "output_type": "stream",
     "text": [
      "['coming', 'debugging', 'cava', 'testing', 'restoring', 'refactoring', 'going']\n"
     ]
    }
   ],
   "source": [
    "#stopword removal\n",
    "stop_words= set(stopwords.words('english'))\n",
    "filtered= [word for word in tokens if word not in stop_words]\n",
    "filtered= \" \".join(word for word in filtered)\n",
    "print(filtered)"
   ]
  },
  {
   "cell_type": "code",
   "execution_count": null,
   "id": "3cf0f632",
   "metadata": {},
   "outputs": [],
   "source": [
    "#tokenization\n",
    "tokens=word_tokenize(filtered)\n",
    "print(tokens)\n"
   ]
  },
  {
   "cell_type": "code",
   "execution_count": null,
   "id": "7c65e687",
   "metadata": {},
   "outputs": [],
   "source": []
  }
 ],
 "metadata": {
  "kernelspec": {
   "display_name": "base",
   "language": "python",
   "name": "python3"
  },
  "language_info": {
   "codemirror_mode": {
    "name": "ipython",
    "version": 3
   },
   "file_extension": ".py",
   "mimetype": "text/x-python",
   "name": "python",
   "nbconvert_exporter": "python",
   "pygments_lexer": "ipython3",
   "version": "3.12.3"
  }
 },
 "nbformat": 4,
 "nbformat_minor": 5
}
