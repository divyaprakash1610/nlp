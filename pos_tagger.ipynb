{
 "cells": [
  {
   "cell_type": "code",
   "execution_count": 25,
   "id": "70ac7e76",
   "metadata": {},
   "outputs": [],
   "source": [
    "import nltk\n",
    "from nltk.corpus import brown\n",
    "from nltk.tag import hmm\n"
   ]
  },
  {
   "cell_type": "code",
   "execution_count": 26,
   "id": "39addbcf",
   "metadata": {},
   "outputs": [
    {
     "name": "stderr",
     "output_type": "stream",
     "text": [
      "[nltk_data] Downloading package punkt to\n",
      "[nltk_data]     C:\\Users\\divya\\AppData\\Roaming\\nltk_data...\n",
      "[nltk_data]   Package punkt is already up-to-date!\n",
      "[nltk_data] Downloading package brown to\n",
      "[nltk_data]     C:\\Users\\divya\\AppData\\Roaming\\nltk_data...\n",
      "[nltk_data]   Package brown is already up-to-date!\n"
     ]
    },
    {
     "data": {
      "text/plain": [
       "True"
      ]
     },
     "execution_count": 26,
     "metadata": {},
     "output_type": "execute_result"
    }
   ],
   "source": [
    "\n",
    "# Download required data (run only once)\n",
    "nltk.download('punkt')\n",
    "nltk.download('brown')\n"
   ]
  },
  {
   "cell_type": "code",
   "execution_count": 27,
   "id": "c8b68406",
   "metadata": {},
   "outputs": [],
   "source": [
    "\n",
    "# Load and split Treebank corpus\n",
    "data = brown.tagged_sents()\n",
    "split = int(0.9 * len(data))\n",
    "train_data = data[:split]\n",
    "test_data = data[split:]\n"
   ]
  },
  {
   "cell_type": "code",
   "execution_count": 28,
   "id": "5e4880c9",
   "metadata": {},
   "outputs": [],
   "source": [
    "\n",
    "# Train HMM POS tagger with Lidstone smoothing\n",
    "trainer = hmm.HiddenMarkovModelTrainer()\n",
    "tagger = trainer.train_supervised(train_data,estimator=lambda fd, bins: nltk.LidstoneProbDist(fd, 0.1, bins))\n"
   ]
  },
  {
   "cell_type": "code",
   "execution_count": 29,
   "id": "574724d2",
   "metadata": {},
   "outputs": [
    {
     "name": "stdout",
     "output_type": "stream",
     "text": [
      "\n",
      "[Word : POS Tag]\n",
      "the : AT\n",
      "sun : NN\n",
      "rises : VBZ\n",
      "in : IN\n",
      "the : AT\n",
      "east : NR\n"
     ]
    }
   ],
   "source": [
    "\n",
    "# Tag a predefined or user-entered sentence\n",
    "sentence = input(\"\\nEnter a sentence to tag: \").strip()\n",
    "tokens = nltk.word_tokenize(sentence)\n",
    "tagged = tagger.tag(tokens)\n",
    "print(\"\\n[Word : POS Tag]\")\n",
    "for word, tag in tagged:\n",
    "    print(f\"{word} : {tag}\")\n"
   ]
  },
  {
   "cell_type": "markdown",
   "id": "be600d41",
   "metadata": {},
   "source": [
    "if the above code is difficult to learn, go for the following code but I am not sure if mam would accept this, since we are directly using the built in tagger instead of building one"
   ]
  },
  {
   "cell_type": "code",
   "execution_count": 30,
   "id": "7544c63a",
   "metadata": {},
   "outputs": [
    {
     "name": "stderr",
     "output_type": "stream",
     "text": [
      "[nltk_data] Downloading package punkt to\n",
      "[nltk_data]     C:\\Users\\divya\\AppData\\Roaming\\nltk_data...\n",
      "[nltk_data]   Package punkt is already up-to-date!\n",
      "[nltk_data] Downloading package averaged_perceptron_tagger to\n",
      "[nltk_data]     C:\\Users\\divya\\AppData\\Roaming\\nltk_data...\n",
      "[nltk_data]   Package averaged_perceptron_tagger is already up-to-\n",
      "[nltk_data]       date!\n"
     ]
    },
    {
     "name": "stdout",
     "output_type": "stream",
     "text": [
      "\n",
      "[Word : POS Tag]\n",
      "the : DT\n",
      "sun : NN\n",
      "rises : VBZ\n",
      "in : IN\n",
      "the : DT\n",
      "east : NN\n"
     ]
    }
   ],
   "source": [
    "import nltk\n",
    "\n",
    "# Download required data (only once)\n",
    "nltk.download('punkt')\n",
    "nltk.download('averaged_perceptron_tagger')\n",
    "\n",
    "# Take input from user\n",
    "sentence = input(\"Enter a sentence: \")\n",
    "\n",
    "# Tokenize the sentence\n",
    "tokens = nltk.word_tokenize(sentence)\n",
    "\n",
    "# Tag the tokens\n",
    "tagged = nltk.pos_tag(tokens)\n",
    "\n",
    "# Print the POS-tagged output\n",
    "print(\"\\n[Word : POS Tag]\")\n",
    "for word, tag in tagged:\n",
    "    print(f\"{word} : {tag}\")\n"
   ]
  },
  {
   "cell_type": "code",
   "execution_count": null,
   "id": "c954e315",
   "metadata": {},
   "outputs": [],
   "source": []
  }
 ],
 "metadata": {
  "kernelspec": {
   "display_name": "base",
   "language": "python",
   "name": "python3"
  },
  "language_info": {
   "codemirror_mode": {
    "name": "ipython",
    "version": 3
   },
   "file_extension": ".py",
   "mimetype": "text/x-python",
   "name": "python",
   "nbconvert_exporter": "python",
   "pygments_lexer": "ipython3",
   "version": "3.12.3"
  }
 },
 "nbformat": 4,
 "nbformat_minor": 5
}
