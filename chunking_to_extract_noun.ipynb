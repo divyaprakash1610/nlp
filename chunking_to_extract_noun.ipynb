{
 "cells": [
  {
   "cell_type": "code",
   "execution_count": null,
   "id": "81d00ba9",
   "metadata": {},
   "outputs": [],
   "source": [
    "!pip install nltk"
   ]
  },
  {
   "cell_type": "code",
   "execution_count": null,
   "id": "f4cbdb42",
   "metadata": {},
   "outputs": [],
   "source": [
    "import nltk\n",
    "nltk.download(\"punkt\")\n",
    "nltk.download(\"averaged_perceptron_tagger_eng\")"
   ]
  },
  {
   "cell_type": "code",
   "execution_count": 6,
   "id": "af436002",
   "metadata": {},
   "outputs": [],
   "source": [
    "from nltk import pos_tag,word_tokenize\n",
    "from nltk.chunk import RegexpParser"
   ]
  },
  {
   "cell_type": "code",
   "execution_count": 7,
   "id": "76da5035",
   "metadata": {},
   "outputs": [],
   "source": [
    "text=input(\"Enter the text:\")\n",
    "tokens=word_tokenize(text)\n",
    "tagged=pos_tag(tokens)"
   ]
  },
  {
   "cell_type": "code",
   "execution_count": 8,
   "id": "627eb3fb",
   "metadata": {},
   "outputs": [],
   "source": [
    "chunk_grammar=\"NP:{<DT>?<JJ.*>*<NN.*>+}\"\n",
    "chunk_parser= RegexpParser(chunk_grammar)"
   ]
  },
  {
   "cell_type": "code",
   "execution_count": 9,
   "id": "ab82b49a",
   "metadata": {},
   "outputs": [],
   "source": [
    "tree=chunk_parser.parse(tagged)"
   ]
  },
  {
   "cell_type": "code",
   "execution_count": 12,
   "id": "b0a23a44",
   "metadata": {},
   "outputs": [
    {
     "name": "stdout",
     "output_type": "stream",
     "text": [
      "the notebooks\n",
      "notes\n"
     ]
    }
   ],
   "source": [
    "for subtree in tree.subtrees():\n",
    "    if subtree.label()=='NP':\n",
    "        np =\" \".join(word for word,tag in subtree.leaves())\n",
    "        print(np)"
   ]
  },
  {
   "cell_type": "code",
   "execution_count": null,
   "id": "fe518b8d",
   "metadata": {},
   "outputs": [],
   "source": []
  }
 ],
 "metadata": {
  "kernelspec": {
   "display_name": "base",
   "language": "python",
   "name": "python3"
  },
  "language_info": {
   "codemirror_mode": {
    "name": "ipython",
    "version": 3
   },
   "file_extension": ".py",
   "mimetype": "text/x-python",
   "name": "python",
   "nbconvert_exporter": "python",
   "pygments_lexer": "ipython3",
   "version": "3.12.3"
  }
 },
 "nbformat": 4,
 "nbformat_minor": 5
}
