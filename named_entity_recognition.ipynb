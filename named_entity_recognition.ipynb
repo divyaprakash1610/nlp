{
 "cells": [
  {
   "cell_type": "code",
   "execution_count": 8,
   "id": "d23b50ee",
   "metadata": {},
   "outputs": [
    {
     "name": "stderr",
     "output_type": "stream",
     "text": [
      "[nltk_data] Downloading package punkt to\n",
      "[nltk_data]     C:\\Users\\divya\\AppData\\Roaming\\nltk_data...\n",
      "[nltk_data]   Package punkt is already up-to-date!\n",
      "[nltk_data] Downloading package averaged_perceptron_tagger to\n",
      "[nltk_data]     C:\\Users\\divya\\AppData\\Roaming\\nltk_data...\n",
      "[nltk_data]   Package averaged_perceptron_tagger is already up-to-\n",
      "[nltk_data]       date!\n",
      "[nltk_data] Downloading package maxent_ne_chunker_tab to\n",
      "[nltk_data]     C:\\Users\\divya\\AppData\\Roaming\\nltk_data...\n",
      "[nltk_data]   Package maxent_ne_chunker_tab is already up-to-date!\n",
      "[nltk_data] Downloading package words to\n",
      "[nltk_data]     C:\\Users\\divya\\AppData\\Roaming\\nltk_data...\n",
      "[nltk_data]   Package words is already up-to-date!\n"
     ]
    },
    {
     "data": {
      "text/plain": [
       "True"
      ]
     },
     "execution_count": 8,
     "metadata": {},
     "output_type": "execute_result"
    }
   ],
   "source": [
    "import nltk\n",
    "from nltk import pos_tag,word_tokenize,ne_chunk\n",
    "nltk.download('punkt')\n",
    "nltk.download('averaged_perceptron_tagger')\n",
    "nltk.download(\"maxent_ne_chunker_tab\")\n",
    "nltk.download(\"words\")"
   ]
  },
  {
   "cell_type": "code",
   "execution_count": 11,
   "id": "987effb2",
   "metadata": {},
   "outputs": [],
   "source": [
    "text = input(\"enter text:\")\n",
    "token=word_tokenize(text)\n",
    "tagged= pos_tag(token)"
   ]
  },
  {
   "cell_type": "code",
   "execution_count": 12,
   "id": "0b050dc2",
   "metadata": {},
   "outputs": [],
   "source": [
    "tree= ne_chunk(tagged)"
   ]
  },
  {
   "cell_type": "code",
   "execution_count": 15,
   "id": "8a3d62c0",
   "metadata": {},
   "outputs": [
    {
     "name": "stdout",
     "output_type": "stream",
     "text": [
      "PERSON:Apple\n",
      "ORGANIZATION:Inc.\n",
      "PERSON:Steve Jobs\n",
      "GPE:California\n"
     ]
    }
   ],
   "source": [
    "for subtree in tree:\n",
    "    if hasattr(subtree,'label'):\n",
    "        entity_name=\" \".join(c[0] for c in subtree)\n",
    "        entity_type=subtree.label()\n",
    "        print(f\"{entity_type}:{entity_name}\")"
   ]
  },
  {
   "cell_type": "code",
   "execution_count": null,
   "id": "c1022fc0",
   "metadata": {},
   "outputs": [],
   "source": []
  }
 ],
 "metadata": {
  "kernelspec": {
   "display_name": "base",
   "language": "python",
   "name": "python3"
  },
  "language_info": {
   "codemirror_mode": {
    "name": "ipython",
    "version": 3
   },
   "file_extension": ".py",
   "mimetype": "text/x-python",
   "name": "python",
   "nbconvert_exporter": "python",
   "pygments_lexer": "ipython3",
   "version": "3.12.3"
  }
 },
 "nbformat": 4,
 "nbformat_minor": 5
}
