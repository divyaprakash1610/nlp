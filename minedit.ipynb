{
 "cells": [
  {
   "cell_type": "code",
   "execution_count": 1,
   "id": "fae90d41",
   "metadata": {},
   "outputs": [],
   "source": [
    "def min_edit_distance(str1, str2):\n",
    "    m, n = len(str1), len(str2)\n",
    "\n",
    "    # Initialize DP table of size (m+1) x (n+1)\n",
    "    dp = [[0] * (n + 1) for _ in range(m + 1)]\n",
    "\n",
    "    # Base cases: converting from/to empty string\n",
    "    for i in range(m + 1):\n",
    "        dp[i][0] = i  # cost of deletions\n",
    "    for j in range(n + 1):\n",
    "        dp[0][j] = j  # cost of insertions\n",
    "\n",
    "    # Fill the table\n",
    "    for i in range(1, m + 1):\n",
    "        for j in range(1, n + 1):\n",
    "            if str1[i - 1] == str2[j - 1]:\n",
    "                dp[i][j] = dp[i - 1][j - 1]  # no operation\n",
    "            else:\n",
    "                dp[i][j] = 1 + min(dp[i - 1][j],    # deletion\n",
    "                                   dp[i][j - 1],    # insertion\n",
    "                                   dp[i - 1][j - 1])  # substitution\n",
    "\n",
    "    return dp[m][n]\n"
   ]
  },
  {
   "cell_type": "code",
   "execution_count": 2,
   "id": "d5b3bde4",
   "metadata": {},
   "outputs": [
    {
     "name": "stdout",
     "output_type": "stream",
     "text": [
      "Minimum Edit Distance: 6\n"
     ]
    }
   ],
   "source": [
    "str1 = input(\"Enter first string: \")  # logesh\n",
    "str2 = input(\"Enter second string: \") # nantha\n",
    "\n",
    "print(\"Minimum Edit Distance:\", min_edit_distance(str1, str2))\n"
   ]
  },
  {
   "cell_type": "code",
   "execution_count": null,
   "id": "a6a7101b",
   "metadata": {},
   "outputs": [],
   "source": []
  }
 ],
 "metadata": {
  "kernelspec": {
   "display_name": "base",
   "language": "python",
   "name": "python3"
  },
  "language_info": {
   "codemirror_mode": {
    "name": "ipython",
    "version": 3
   },
   "file_extension": ".py",
   "mimetype": "text/x-python",
   "name": "python",
   "nbconvert_exporter": "python",
   "pygments_lexer": "ipython3",
   "version": "3.12.3"
  }
 },
 "nbformat": 4,
 "nbformat_minor": 5
}
