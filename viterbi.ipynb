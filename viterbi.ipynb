{
 "cells": [
  {
   "cell_type": "code",
   "execution_count": 6,
   "id": "2ee6ce0a",
   "metadata": {},
   "outputs": [
    {
     "name": "stderr",
     "output_type": "stream",
     "text": [
      "[nltk_data] Downloading package brown to\n",
      "[nltk_data]     C:\\Users\\divya\\AppData\\Roaming\\nltk_data...\n",
      "[nltk_data]   Package brown is already up-to-date!\n",
      "[nltk_data] Downloading package universal_tagset to\n",
      "[nltk_data]     C:\\Users\\divya\\AppData\\Roaming\\nltk_data...\n",
      "[nltk_data]   Package universal_tagset is already up-to-date!\n"
     ]
    },
    {
     "name": "stdout",
     "output_type": "stream",
     "text": [
      "Viterbi POS Tagging:\n",
      "the: DET (Emission: 3.4422e-04, Transition: 6.2642e-01)\n",
      "sun: NOUN (Emission: 2.1499e-05, Transition: 1.5881e-01)\n",
      "shines: VERB (Emission: 6.1407e-04, Transition: 5.7512e-02)\n",
      "bright: ADJ (Emission: 6.1407e-04, Transition: 5.7512e-02)\n"
     ]
    }
   ],
   "source": [
    "import nltk\n",
    "from collections import Counter\n",
    "\n",
    "nltk.download('brown')\n",
    "nltk.download('universal_tagset')\n",
    "\n",
    "def build_hmm():\n",
    "    sents = nltk.corpus.brown.tagged_sents(tagset='universal')\n",
    "    tags = Counter()\n",
    "    emits = Counter()\n",
    "    trans = Counter()\n",
    "    vocab = set()\n",
    "    \n",
    "    for sent in sents:\n",
    "        prev = '<s>'\n",
    "        for w, t in sent:\n",
    "            w = w.lower()\n",
    "            vocab.add(w)\n",
    "            tags[t] += 1\n",
    "            emits[(w, t)] += 1\n",
    "            trans[(prev, t)] += 1\n",
    "            prev = t\n",
    "        trans[(prev, '</s>')] += 1\n",
    "        tags['</s>'] += 1\n",
    "    \n",
    "    V, T = len(vocab), len(tags)\n",
    "    emit_p = {(w, t): (c + 1) / (tags[t] + V) for (w, t), c in emits.items()}\n",
    "    trans_p = {(t1, t2): (c + 1) / (tags[t1] + T) for (t1, t2), c in trans.items()}\n",
    "    return emit_p, trans_p, tags, tags.most_common(1)[0][0]\n",
    "\n",
    "def tag_viterbi(text, emit_p, trans_p, tags, default):\n",
    "    words = text.lower().split()\n",
    "    V, back = [{}], [{}]\n",
    "    ts = [t for t in tags if t not in ['<s>', '</s>', '.', 'X']]  # Exclude punctuation and X\n",
    "    \n",
    "    for t in ts:\n",
    "        ep = emit_p.get((words[0], t), 1 / (tags[t] + len(ts)))\n",
    "        tp = trans_p.get(('<s>', t), 1 / (tags['<s>'] + len(ts)))\n",
    "        V[0][t] = ep * tp\n",
    "        back[0][t] = (None, ep, tp)\n",
    "    \n",
    "    for i in range(1, len(words)):\n",
    "        V.append({})\n",
    "        back.append({})\n",
    "        for t in ts:\n",
    "            max_score, best_prev, best_ep, best_tp = 0, None, 0, 0\n",
    "            for p in ts:\n",
    "                ep = emit_p.get((words[i], t), 1 / (tags[t] + len(ts)))\n",
    "                tp = trans_p.get((p, t), 1 / (tags[p] + len(ts)))\n",
    "                score = V[i-1][p] * ep * tp\n",
    "                if score > max_score:\n",
    "                    max_score, best_prev, best_ep, best_tp = score, p, ep, tp\n",
    "            V[i][t] = max_score\n",
    "            back[i][t] = (best_prev, best_ep, best_tp)\n",
    "    \n",
    "    t = max(V[-1], key=V[-1].get)\n",
    "    result = [(words[-1], t, back[-1][t][1], back[-1][t][2])]\n",
    "    for i in range(len(words)-1, 0, -1):\n",
    "        t, ep, tp = back[i][t]\n",
    "        result.append((words[i-1], t, ep, tp))\n",
    "    return result[::-1]\n",
    "\n",
    "emit_p, trans_p, tags, default = build_hmm()\n",
    "print(\"Viterbi POS Tagging:\")\n",
    "for w, t, ep, tp in tag_viterbi(\"The sun shines bright\", emit_p, trans_p, tags, default):\n",
    "    print(f\"{w}: {t} (Emission: {ep:.4e}, Transition: {tp:.4e})\")"
   ]
  },
  {
   "cell_type": "code",
   "execution_count": null,
   "id": "e83b3c12",
   "metadata": {},
   "outputs": [],
   "source": []
  }
 ],
 "metadata": {
  "kernelspec": {
   "display_name": "base",
   "language": "python",
   "name": "python3"
  },
  "language_info": {
   "codemirror_mode": {
    "name": "ipython",
    "version": 3
   },
   "file_extension": ".py",
   "mimetype": "text/x-python",
   "name": "python",
   "nbconvert_exporter": "python",
   "pygments_lexer": "ipython3",
   "version": "3.12.3"
  }
 },
 "nbformat": 4,
 "nbformat_minor": 5
}
